{
  "cells": [
    {
      "cell_type": "markdown",
      "metadata": {
        "id": "FODAnstfm3iP"
      },
      "source": [
        "<a href=\"https://colab.research.google.com/github/mcd-unison/material-programacion/blob/main/intro-python.ipynb\" target=\"_parent\"><img src=\"https://colab.research.google.com/assets/colab-badge.svg\" alt=\"Open In Colab\"/></a>"
      ]
    },
    {
      "cell_type": "markdown",
      "metadata": {
        "id": "5KrgHCcRm3iS"
      },
      "source": [
        "<center>\n",
        "<p><img src=\"https://mcd.unison.mx/wp-content/themes/awaken/img/logo_mcd.png\" width=\"100\">\n",
        "</p>\n",
        "\n",
        "\n",
        "\n",
        "# Curso Propedéutico en *Programación*\n",
        "\n",
        "## Introducción a `python` resolviendo preguntas\n",
        "\n",
        "\n",
        "**Julio Waissman Vilanova**\n",
        "\n",
        "**Postulante:Celia Hernández Cruz**\n",
        "\n"
      ]
    },
    {
      "cell_type": "markdown",
      "metadata": {
        "id": "jjrjlfmvm3iU"
      },
      "source": [
        "### Tipos\n",
        "\n",
        "¿Cuales son los tipos de datos básicos? Revisa los tipos siguientes:\n",
        "\n",
        "1. Tipos numéricos `int`, `float`, `complex`\n",
        "2. Cadenas de caracteres\n",
        "3. Tuplas\n",
        "4. Listas\n",
        "5. Diccionarios\n",
        "6. Conjuntos\n",
        "\n",
        "Da ejemplo de sobrecarga de operadores (en particular `+` y `*`)\n",
        "\n"
      ]
    },
    {
      "cell_type": "markdown",
      "metadata": {
        "id": "x1Xd-QcwAf1D"
      },
      "source": [
        "# 1. Tipos Numéricos\n",
        "*int: Números enteros*   \n",
        "\n",
        "```\n",
        "a = 5\n",
        "b = -3\n",
        "c = 42\n",
        "print(a)\n",
        "print(b)\n",
        "print (c)\n",
        "```"
      ]
    },
    {
      "cell_type": "code",
      "execution_count": null,
      "metadata": {
        "colab": {
          "base_uri": "https://localhost:8080/"
        },
        "id": "NwgamScOAfVz",
        "outputId": "79742ec6-b0ee-43b6-bfb7-ffbc313a055d"
      },
      "outputs": [
        {
          "name": "stdout",
          "output_type": "stream",
          "text": [
            "5\n",
            "-3\n",
            "42\n"
          ]
        }
      ],
      "source": [
        "#Ejemplos de int\n",
        "a = 5\n",
        "b = -3\n",
        "c = 42\n",
        "print(a)\n",
        "print(b)\n",
        "print(c)"
      ]
    },
    {
      "cell_type": "markdown",
      "metadata": {
        "id": "n15KO2TFB_Ci"
      },
      "source": [
        "*float: Números de punto flotante (decimales).*\n",
        "\n",
        "\n",
        "```\n",
        "d = 3.14\n",
        "e = -0.001\n",
        "f = 2.0\n",
        "```\n",
        "\n",
        "\n",
        "\n"
      ]
    },
    {
      "cell_type": "code",
      "execution_count": null,
      "metadata": {
        "colab": {
          "base_uri": "https://localhost:8080/"
        },
        "id": "S9HJIr7sCbfW",
        "outputId": "0f94f83c-67c1-4b83-b927-3bd426c22f8f"
      },
      "outputs": [
        {
          "name": "stdout",
          "output_type": "stream",
          "text": [
            "3.14\n",
            "-0.001\n",
            "2.0\n"
          ]
        }
      ],
      "source": [
        "#Ejemplos de float\n",
        "d = 3.14\n",
        "e = -0.001\n",
        "f = 2.0\n",
        "print(d)\n",
        "print(e)\n",
        "print(f)"
      ]
    },
    {
      "cell_type": "markdown",
      "metadata": {
        "id": "3I1Le3mcIkCe"
      },
      "source": []
    },
    {
      "cell_type": "markdown",
      "metadata": {
        "id": "Ld4QHDcWIkXF"
      },
      "source": [
        "complex: Números complejos, que tienen una parte real y una imaginaria.\n",
        "\n",
        "\n",
        "```\n",
        "g = 3+4j\n",
        "h = 1-ij\n",
        "i =2-5j\n",
        "```\n",
        "\n",
        "\n",
        "\n"
      ]
    },
    {
      "cell_type": "code",
      "execution_count": null,
      "metadata": {
        "colab": {
          "base_uri": "https://localhost:8080/"
        },
        "id": "5BnTqNKvJBaz",
        "outputId": "b59d3344-2895-4c13-9079-d3bba57d34c8"
      },
      "outputs": [
        {
          "name": "stdout",
          "output_type": "stream",
          "text": [
            "(3+4j)\n",
            "(1-7j)\n",
            "(2-5j)\n"
          ]
        }
      ],
      "source": [
        "g = 3+4j\n",
        "h = 1-7j\n",
        "i =2-5j\n",
        "print(g)\n",
        "print(h)\n",
        "print(i)"
      ]
    },
    {
      "cell_type": "code",
      "execution_count": null,
      "metadata": {
        "colab": {
          "base_uri": "https://localhost:8080/"
        },
        "id": "37fqNNxaKHWt",
        "outputId": "f18c646c-5401-4c55-c3b8-e1d2df6e8116"
      },
      "outputs": [
        {
          "name": "stdout",
          "output_type": "stream",
          "text": [
            "Ejemplo de cadena de caracteres: Hola, mundo!\n"
          ]
        }
      ],
      "source": [
        "cadena = \"Hola, mundo!\"\n",
        "print(\"Ejemplo de cadena de caracteres: \" + cadena)"
      ]
    },
    {
      "cell_type": "code",
      "execution_count": null,
      "metadata": {
        "colab": {
          "base_uri": "https://localhost:8080/"
        },
        "id": "r9aBOqF8KS0d",
        "outputId": "c5a12b83-c6d4-440e-c7c7-9fd5bb92db3b"
      },
      "outputs": [
        {
          "name": "stdout",
          "output_type": "stream",
          "text": [
            "Ejemplo de tupla: (1, 2, 3, 4, 5)\n"
          ]
        }
      ],
      "source": [
        "tupla = (1, 2, 3, 4, 5)\n",
        "print(\"Ejemplo de tupla: \" + str(tupla))"
      ]
    },
    {
      "cell_type": "code",
      "execution_count": null,
      "metadata": {
        "colab": {
          "base_uri": "https://localhost:8080/"
        },
        "id": "IbNK5k_dKjBt",
        "outputId": "6b929dcd-5d1f-4d4a-c0ec-c362864380d6"
      },
      "outputs": [
        {
          "name": "stdout",
          "output_type": "stream",
          "text": [
            "Ejemplo de tupla: [1, 2, 3, 4, 5]\n"
          ]
        }
      ],
      "source": [
        "lista = [1, 2, 3, 4, 5]\n",
        "print(\"Ejemplo de tupla: \" + str(lista))"
      ]
    },
    {
      "cell_type": "code",
      "execution_count": null,
      "metadata": {
        "colab": {
          "base_uri": "https://localhost:8080/"
        },
        "id": "NWQgiyzEK49x",
        "outputId": "7b9a5bd7-acd4-4230-ba25-29ef8f47d734"
      },
      "outputs": [
        {
          "name": "stdout",
          "output_type": "stream",
          "text": [
            "Ejemplo de tupla: {1, 2, 3, 4, 5}\n"
          ]
        }
      ],
      "source": [
        "conjunto = {1, 2, 3, 4, 5}\n",
        "print(\"Ejemplo de tupla: \" + str(conjunto))"
      ]
    },
    {
      "cell_type": "code",
      "execution_count": null,
      "metadata": {
        "colab": {
          "base_uri": "https://localhost:8080/"
        },
        "id": "iKFEcotXKvS9",
        "outputId": "e9ea2797-6599-41ad-c8d3-6507fe1acd7c"
      },
      "outputs": [
        {
          "name": "stdout",
          "output_type": "stream",
          "text": [
            "Ejemplo de tupla: {'a': 1, 'b': 2, 'c': 3} cuenta con claves y valores\n"
          ]
        }
      ],
      "source": [
        "diccionario = {'a': 1, 'b': 2, 'c': 3}\n",
        "print(\"Ejemplo de tupla: \" + str(diccionario) + \" cuenta con claves y valores\")"
      ]
    },
    {
      "cell_type": "code",
      "execution_count": null,
      "metadata": {
        "colab": {
          "base_uri": "https://localhost:8080/"
        },
        "id": "OUUY4waNLKyh",
        "outputId": "fb7f6cb7-0988-4bfe-95ff-982a095b6b56"
      },
      "outputs": [
        {
          "name": "stdout",
          "output_type": "stream",
          "text": [
            "Ejemplo de conjunto: {'c', 'e', 'd', 'a', 'b'} letras es mi conjunto\n"
          ]
        }
      ],
      "source": [
        "letras = {'a', 'b', 'c', 'd', 'e'}\n",
        "print(\"Ejemplo de conjunto: \" + str(letras) + \" letras es mi conjunto\")"
      ]
    },
    {
      "cell_type": "code",
      "execution_count": null,
      "metadata": {
        "colab": {
          "base_uri": "https://localhost:8080/"
        },
        "id": "yMhJU_7YNhqx",
        "outputId": "b63a8e95-8a2c-44a8-b72b-398d6d57379e"
      },
      "outputs": [
        {
          "name": "stdout",
          "output_type": "stream",
          "text": [
            "Resultado de la suma: 15\n",
            "Resultado de la multiplicación: 15\n"
          ]
        }
      ],
      "source": [
        "#Sobrecarga en + y *\n",
        "class Numero:\n",
        "    def __init__(self, valor):\n",
        "        self.valor = valor\n",
        "\n",
        "    # Sobrecarga del operador de suma (+)\n",
        "    def __add__(self, otro):\n",
        "        return self.valor + otro.valor\n",
        "\n",
        "    # Sobrecarga del operador de multiplicación (*)\n",
        "    def __mul__(self, otro):\n",
        "        return self.valor * otro\n",
        "\n",
        "# Creamos dos instancias de la clase Numero\n",
        "num1 = Numero(5)\n",
        "num2 = Numero(10)\n",
        "\n",
        "# Suma de dos instancias de Numero\n",
        "resultado_suma = num1 + num2\n",
        "print(\"Resultado de la suma:\", resultado_suma)  # Salida: 15\n",
        "\n",
        "# Multiplicación de una instancia de Numero por un valor entero\n",
        "resultado_multiplicacion = num1 * 3\n",
        "print(\"Resultado de la multiplicación:\", resultado_multiplicacion)  # Salida: 15\n"
      ]
    },
    {
      "cell_type": "markdown",
      "metadata": {
        "id": "Fyzi06Wim3iV"
      },
      "source": [
        "¿Que significa que unos tipos sean *mutables* y otros *inmutables*?\n",
        "\n",
        "Realiza un pequeño programa donde quede claro lo que significa que un tipo de datos sea mutable, e ilustra el uso del método `copy.deepcopy()`."
      ]
    },
    {
      "cell_type": "markdown",
      "metadata": {
        "id": "SD5oS9zv8asN"
      },
      "source": [
        "Para realizar el ejemplo se hará copia para que la copia se hagan las modificaciones y diferenciar entre mutable y no mutable.\n",
        "En este ejemplo y de acuerdo a las propiedades, vamos a diferencia entre la lista que es mutable y la tupla que es inmutable"
      ]
    },
    {
      "cell_type": "code",
      "execution_count": null,
      "metadata": {
        "id": "PrDc-3xRm3iV"
      },
      "outputs": [],
      "source": [
        "def exp_mutabilidad():\n",
        "    # Ejemplo de tipo mutable: lista\n",
        "    lista_original = [1, 2, 3]\n",
        "    lista_copiada = lista_original[:]  # Copia usando slicing\n",
        "\n",
        "    # Se modifica la lista original agregando el 4\n",
        "    lista_original.append(4)\n",
        "\n",
        "    print(\"Lista original:\", lista_original)  # Su salida: [1, 2, 3, 4]\n",
        "    print(\"Lista copiada mostrando que es mutable:\", lista_copiada)  # Su salida: [1, 2, 3] - La copia no se modifica\n",
        "\n",
        "    # tipo inmutable: tupla\n",
        "    tupla_original = (1, 2, 3)\n",
        "    try:\n",
        "        tupla_original[0] = 4  # Se intentará modificar una tupla genera un error\n",
        "    except TypeError as e:\n",
        "        print(\"Error porque la tupla es inmutable:\", e)  # Salida: 'tuple' object does not support item assignment\n",
        "\n",
        "    # Ejemplo de diccionario (mutable) con listas anidadas\n",
        "    dict_original = {'a': [1, 2, 3], 'b': [4, 5, 6]}\n",
        "    dict_copiado = dict_original.copy()  # Copia del diccionario superficial usando .copy\n",
        "\n",
        "    # Se modificará el diccionario original\n",
        "    dict_original['a'].append(7)\n",
        "\n",
        "\n",
        "# Llamar a la función para explicar mutabilidad\n",
        "exp_mutabilidad()\n"
      ]
    },
    {
      "cell_type": "markdown",
      "metadata": {
        "id": "Stn-Rk6_m3iW"
      },
      "source": [
        "### *Comprehension* de listas, conjuntos y diccionarios\n",
        "\n",
        "Escribe, en una sola linea, una expresión que genere una lista con todos los números enteros que se encuentran entre $1$ y $n$\n",
        "que sean divisibles por $3$ y $7$ y que el dígito menos significativo del número sea $6$."
      ]
    },
    {
      "cell_type": "code",
      "execution_count": null,
      "metadata": {
        "id": "1WCi7daGm3iW"
      },
      "outputs": [],
      "source": [
        "n = 100  # Puedes cambiar el valor de n según lo necesites\n",
        "\n",
        "# Se genera una lista por comprensión con los números enteros entre 1 y n que son divisibles por 3 y 7 y cuyo dígito menos significativo es 6 nos ayuda a filtrar los números que cumplen con la condición de tener un dígito menos significativo\n",
        "numeros_especificos = [numero for numero in range(1, n) if numero % 21 == 6]\n",
        "\n",
        "print(numeros_especificos)"
      ]
    },
    {
      "cell_type": "markdown",
      "metadata": {
        "id": "nISnnMwTm3iX"
      },
      "source": [
        "### Funciones\n",
        "\n",
        "Escribe una función que:\n",
        "\n",
        "1. reciba una lista de elementos (letras, números, lo que sea),\n",
        "2. cuente la ocurrencia de cada elemento en la lista,\n",
        "3. devuelva las ocurrencias en forma de diccionario,\n",
        "4. si imprime es True, imprima un histograma de ocurrencias, por ejemplo:\n",
        "\n",
        "```python\n",
        "\n",
        "lista = [1,'a',1, 13, 'hola', 'a', 1, 1, 'a', 1]\n",
        "\n",
        "d = funcion_ejemplo(lista, imprime = True)\n",
        "\n",
        "1    \t\t***** \t(5 -> 50%)\n",
        "'a'  \t\t***   \t(3 -> 30%)\n",
        "13\t\t*\t(1 -> 10%)\n",
        "'hola'\t\t*\t(1 -> 10%)\n",
        "\n",
        "```"
      ]
    },
    {
      "cell_type": "code",
      "execution_count": null,
      "metadata": {
        "id": "LJIwdTIiFxkd"
      },
      "outputs": [],
      "source": [
        "#Escribe la función\n",
        "def contar_ocurrencias(lista, imprime=False):\n",
        "    # Contar las ocurrencias de cada elemento en la lista\n",
        "    ocurrencias = {} #Aquí se recibe una lista de elementos\n",
        "    for elemento in lista:\n",
        "        if elemento in ocurrencias:\n",
        "            ocurrencias[elemento] += 1    #para cada vez que se repita le suma 1\n",
        "        else:\n",
        "            ocurrencias[elemento] = 1  # si no encuentra se queda con uno\n",
        "\n",
        "    # Imprimir el histograma si imprime es cuando es True\n",
        "    if imprime:\n",
        "        for elemento, cuenta in ocurrencias.items():\n",
        "            print(f\"{elemento}: {'*' * cuenta}\")\n",
        "\n",
        "    return ocurrencias\n",
        "\n",
        "# Lista de prueba\n",
        "lista = [1, 'a', 1, 13, 'hola', 'a', 1, 1, 'a', 1]\n",
        "resultado = contar_ocurrencias(lista, imprime=True)\n",
        "print(resultado)\n"
      ]
    },
    {
      "cell_type": "markdown",
      "metadata": {
        "id": "cZ2DAx3sm3iY"
      },
      "source": [
        "Escribe una función que modifique un diccionario y regrese el diccionario modificado y una copia del original, donde cada entrada\n",
        "del diccionario sea una lista de valores. Ten en cuenta que si una entrada del diccionario es de tipo mutable, al modificarlo en la\n",
        "copia se modifica el original. Utiliza el modulo `copy` para evitar este problema. Ejemplo de la función:\n",
        "\n",
        "```python\n",
        "dic1 = {'Pepe':[12, 'enero', 1980], 'Carolina':[15,'mayo',1975],'Paco':[10,'nov',1970]}\n",
        "dic2 = fundicos(dic1, 'Pepe', 1, 'febrero')\n",
        "\n",
        "print(dic1)\n",
        "{'Pepe':[12, 'enero', 1980], 'Carolina':[15,'mayo',1975],'Paco':[10,'nov',1970]}\n",
        "\n",
        "print(dic2)\n",
        "{'Pepe':[12, 'febrero', 1980], 'Carolina':[15,'mayo',1975],'Paco':[10,'nov',1970]}\n",
        "```"
      ]
    },
    {
      "cell_type": "code",
      "execution_count": null,
      "metadata": {
        "id": "D1PyYoXfm3iZ"
      },
      "outputs": [],
      "source": [
        "#Usamos la función copy.deepcopy() de copy\n",
        "import copy\n",
        "\n",
        "def fundicos(diccionario, clave, indice, valor):\n",
        "    # Aqui se va a realizar una copia del diccionario original para evitar modificarlo\n",
        "    diccionario_original = copy.deepcopy(diccionario)\n",
        "\n",
        "    # Verificamos si la clave existe en el diccionario\n",
        "    if clave in diccionario:\n",
        "        # Se modifica la entrada correspondiente en el diccionario copiado\n",
        "        diccionario[clave][indice] = valor\n",
        "\n",
        "    return diccionario_original, diccionario\n",
        "\n",
        "# Ejemplo de uso\n",
        "dic1 = {'Pepe': [12, 'enero', 1980], 'Carolina': [15, 'mayo', 1975], 'Paco': [10, 'nov', 1970]}\n",
        "dic2 = fundicos(dic1, 'Pepe', 1, 'febrero')\n",
        "\n",
        "print(dic1)\n",
        "print(dic2)\n"
      ]
    },
    {
      "cell_type": "markdown",
      "metadata": {
        "id": "X-n5JhT2m3ia"
      },
      "source": [
        "### Generadores\n",
        "\n",
        "Escribe un generador que reciba una lista y genere todas las permutaciones que se puedan hacer con los elementos de la lista"
      ]
    },
    {
      "cell_type": "code",
      "execution_count": null,
      "metadata": {
        "id": "LTt1JSmum3ia"
      },
      "outputs": [],
      "source": [
        "# Escribe aqui fun1\n",
        "\n",
        "def fun1_permutaciones(lista):\n",
        "    \"\"\"\n",
        "    Permutaciones de los elementos de una lista.\n",
        "\n",
        "    Devuelve un generador con todas las permutaciones posibles de los elementos de la lista de entrada\n",
        "    \"\"\"\n",
        "    # Base: si la lista es vacía, no hay nada que permutar, devolvemos una lista vacía\n",
        "    if len(lista) == 0:\n",
        "        yield []\n",
        "    # Caso recursivo: para cada elemento en la lista, generamos las permutaciones restantes\n",
        "    else:\n",
        "        for i in range(len(lista)):\n",
        "            # Generamos las permutaciones de la lista sin el elemento actual\n",
        "            permutaciones_restantes = fun1_permutaciones(lista[:i] + lista[i+1:])\n",
        "            # Para cada permutación restante, agregamos el elemento actual al inicio\n",
        "            for permutacion in permutaciones_restantes:\n",
        "                yield [lista[i]] + permutacion\n",
        "\n",
        "# Ejemplo de uso\n",
        "lista_ejemplo = [1, 2, 3]\n",
        "for permutacion in fun1_permutaciones(lista_ejemplo):\n",
        "    print(permutacion)\n"
      ]
    },
    {
      "cell_type": "code",
      "execution_count": null,
      "metadata": {
        "id": "9XL-JWkgm3ib"
      },
      "outputs": [],
      "source": [
        "# Realiza pruebas de fun2 aquí\n",
        "for p in fun1_permutaciones(['a', 'b', 'c', 'd']):\n",
        "    print(p)"
      ]
    },
    {
      "cell_type": "markdown",
      "metadata": {
        "id": "Btt9ZoDrm3ic"
      },
      "source": [
        "Ahora escribe una funcipn que reciba 4 digitos del 0 al 9, y devuelva una lista con todas las horas váidas que se puedan hacer con estos dígitos en forma de lista de strings con la forma `\"HH:MM\"`."
      ]
    },
    {
      "cell_type": "code",
      "execution_count": null,
      "metadata": {
        "id": "EO-5dw__m3ic"
      },
      "outputs": [],
      "source": [
        "def horas_validas(lista):\n",
        "    \"\"\"\n",
        "    Comprobar si una lista contiene horas válidas en formato HH:MM.\n",
        "\n",
        "\n",
        "    lista (list): Una lista de cadenas que representan horas en formato HH:MM.\n",
        "\n",
        "    Returns:\n",
        "        list: Una lista que contiene solo las horas válidas encontradas en la lista original.\n",
        "\n",
        "    Ejemplo:\n",
        "        >>> horas_validas(['12:30', '24:00', '9:15', '15:65', 'abc'])\n",
        "        ['12:30', '9:15']\n",
        "    \"\"\"\n",
        "    horas_validas = []\n",
        "    for hora in lista:\n",
        "        if isinstance(hora, str) and len(hora) == 5 and hora[2] == ':' and hora[:2].isdigit() and hora[3:].isdigit():\n",
        "            horas_validas.append(hora)\n",
        "        else:\n",
        "            print(f\"Advertencia: '{hora}' no es una hora válida en formato HH:MM\")\n",
        "    return horas_validas\n",
        "\n",
        "\n",
        "#print(horas_validas(['12:30', '24:00', '9:15', '15:65', 'abc', 1, 2, 3, 4]))"
      ]
    },
    {
      "cell_type": "markdown",
      "metadata": {
        "id": "16VAfS9um3id"
      },
      "source": [
        "Validando:"
      ]
    },
    {
      "cell_type": "code",
      "execution_count": null,
      "metadata": {
        "colab": {
          "base_uri": "https://localhost:8080/"
        },
        "id": "W4XCZzC_m3id",
        "outputId": "0fab2734-29ea-4229-e073-5ef2196d3928"
      },
      "outputs": [
        {
          "name": "stdout",
          "output_type": "stream",
          "text": [
            "Advertencia: '1' no es una hora válida en formato HH:MM\n",
            "Advertencia: '2' no es una hora válida en formato HH:MM\n",
            "Advertencia: '3' no es una hora válida en formato HH:MM\n",
            "Advertencia: '4' no es una hora válida en formato HH:MM\n",
            "[]\n"
          ]
        }
      ],
      "source": [
        "#Validación\n",
        "print(horas_validas([ 1, 2, 3, 4]))"
      ]
    },
    {
      "cell_type": "markdown",
      "metadata": {
        "id": "R2WgK2gbm3id"
      },
      "source": [
        "Escribe una función, lo más compacta posible, que escoja entre los 3 patrones ascii a continuación, e imprima en pantalla\n",
        "el deseado, pero de dimensión $n$ ($n \\ge 4$), toma en cuanta que para algunos valores de $n$ habrá\n",
        "algún(os) patrones que no se puedan hacer.\n",
        "\n",
        "```\n",
        "          *             ++++           oooooooo\n",
        "          **            ++++           ooo  ooo\n",
        "          ***           ++++           oo    oo\n",
        "          ****          ++++           o      o\n",
        "          *****             ++++       o      o\n",
        "          ******            ++++       oo    oo\n",
        "          *******           ++++       ooo  ooo\n",
        "          ********          ++++       oooooooo\n",
        "\n",
        "```"
      ]
    },
    {
      "cell_type": "code",
      "execution_count": null,
      "metadata": {
        "id": "-8xJkoNZC_LR"
      },
      "outputs": [],
      "source": [
        "\"\"\"Para realizarlo lo más compacto posible es necesario limitar la función\n",
        "entonces solo aceptará del 1 al 3 si n=es mayor a 3 marcará error y ahi para la\n",
        "función. Para ello se considerá 1 asteriscos que salta la línea y va creciendo 1 más, 2 para\n",
        "\n",
        "\"\"\"\n",
        "\n",
        "def imprimir_patron(n, tipo):\n",
        "    # Verifica si n es menor que 4\n",
        "    if n < 4:\n",
        "        print(\"n debe ser mayor o igual a 4\")\n",
        "        return\n",
        "\n",
        "    # Patrón 1: Asteriscos\n",
        "    if tipo == 1:\n",
        "        # Imprime filas de asteriscos con cantidad creciente\n",
        "        for i in range(1, n + 1):\n",
        "            print('*' * i)\n",
        "\n",
        "    # Patrón 2: Cuadrado de signos \"+\" con un espacio de 4 antes del segundo cuadrado\n",
        "    elif tipo == 2:\n",
        "        # Imprime un cuadrado de lado n usando signos \"+\" con un espacio de 4 antes del segundo cuadrado\n",
        "        for _ in range(n):\n",
        "            print('+' * n)\n",
        "        for _ in range(4):\n",
        "            print(' ' * 4 + '+' * n)\n",
        "\n",
        "    # Patrón 3: Figura óvalo con \"o\"\n",
        "    elif tipo == 3:\n",
        "        # Genera las líneas del óvalo\n",
        "        lines = [\n",
        "            \"o\" * n,\n",
        "            \"o\" * (n // 2 - 1) + \" \" * (n // 2 - 2) + \"o\" * (n // 2 - 1),\n",
        "            \"o\" * (n // 4) + \" \" * (n // 2) + \"o\" * (n // 4),\n",
        "            \"o\" * (n // 4 - 1) + \" \" * (n // 2 + 2) + \"o\" * (n // 4 - 1),\n",
        "            \"o\" * (n // 4) + \" \" * (n // 2) + \"o\" * (n // 4),\n",
        "            \"o\" * (n // 2 - 1) + \" \" * (n // 2 - 2) + \"o\" * (n // 2 - 1),\n",
        "            \"o\" * n\n",
        "        ]\n",
        "\n",
        "        # Imprime las líneas del óvalo\n",
        "        for line in lines:\n",
        "            print(line)\n",
        "        #Cualquier otro que no sea en el intervalo 1 al 3 imprimirá que no es válido\n",
        "    else:\n",
        "        print(\"Tipo de patrón no válido\")\n",
        "\n",
        "\n",
        "\n",
        "\n"
      ]
    },
    {
      "cell_type": "code",
      "execution_count": null,
      "metadata": {
        "id": "9Pcp-QZMm3ie"
      },
      "outputs": [],
      "source": [
        "# Ejemplo de patrón 1 (Asteriscos crecientes) con n=8\n",
        "print(\"Patrón 1 (Asteriscos crecientes) con n=8:\")\n",
        "imprimir_patron(8, 1)\n",
        "print()\n",
        "\n",
        "# Ejemplo de patrón 2 (Rombo de \"+\") con n=8\n",
        "print(\"Patrón 2 (Rombo de 'o') con n=4:\")\n",
        "imprimir_patron(4, 2)\n",
        "\n",
        "# Ejemplo de patrón 3 (Óvalo de \"o\") con n=8\n",
        "print(\"Patrón 3 (Figura con 'o') con n=8:\")\n",
        "imprimir_patron(8, 3)\n",
        "\n",
        "# Ejemplo de patrón no especificado ya que pasa de 3\n",
        "\n",
        "imprimir_patron(10, 7)"
      ]
    },
    {
      "cell_type": "code",
      "execution_count": null,
      "metadata": {
        "id": "iF-QLqoVm3ie"
      },
      "outputs": [],
      "source": [
        "#Realiza pruebas aquí\n"
      ]
    },
    {
      "cell_type": "markdown",
      "metadata": {
        "id": "WQh0WjX8m3ie"
      },
      "source": [
        "### Clases y objetos\n",
        "\n",
        "Diseña una clase Matriz con las siguientes características:\n",
        "\n",
        "1. Como inicialización de un objeto es necesario conocer $n$, $m$ y tipo. En caso de no proporcionar $m$ la matriz se asume cuadrada de $n \\times n$. En caso de no proporcionar $n$ la matriz tendrá una dimensión de $1 \\times 1$.\n",
        "2. De no especificarse todos los elementos se inicializan a 0, a menos que exista un tipo especial ( `unos` o `diag` por el momento).\n",
        "3. Implementa con sobrecarga la suma de matrices, la multiplicación de matrices y la multiplicación por un escalar.\n",
        "4. Implementa como métodos eliminar columna y eliminar fila.   \n",
        "5. Programa la representación visual de la matriz.\n",
        "6. Ten en cuenta tambien el manejo de errores.\n",
        "\n",
        "\n",
        "Ejemplo de uso:\n",
        "\n",
        "```\n",
        ">>> A = Matriz(n=3, m=4)\n",
        "\n",
        ">>> print(A)\n",
        "0 0 0 0\n",
        "0 0 0 0\n",
        "0 0 0 0\n",
        "\n",
        ">>> A = A.quitafila(2)\n",
        "\n",
        ">>> print(A)\n",
        "0 0 0 0\n",
        "0 0 0 0\n",
        "\n",
        ">>> B = Matriz(4,4,'diag')\n",
        "\n",
        ">>> print(B)\n",
        "1 0 0 0\n",
        "0 1 0 0\n",
        "0 0 1 0\n",
        "0 0 0 1\n",
        "\n",
        ">>> C = Matriz(4,1,'unos')\n",
        "\n",
        ">>> print(C)\n",
        "1\n",
        "1\n",
        "1\n",
        "1\n",
        "\n",
        ">>> D = 3 * B * C\n",
        "\n",
        ">>> print(D)\n",
        "3\n",
        "3\n",
        "3\n",
        "3\n",
        "\n",
        ">>> E = 3 * B + C\n",
        "error \"No seas menso, si no son de la misma dimensión las matrices no se pueden sumar\"\n",
        "```"
      ]
    },
    {
      "cell_type": "markdown",
      "metadata": {
        "id": "OccuM20MVlQm"
      },
      "source": [
        "Para diseñar la clase Matriz con las características mencionadas, podemos seguir los siguientes pasos:\n",
        "\n",
        "\n",
        "*   Definir los atributos de la clase: n, m, tipo y elementos.\n",
        "*   Implementar el método de inicialización __init__ para inicializar los atributos de la matriz.\n",
        "*   Implementar métodos para la suma de matrices, la multiplicación de matrices, la multiplicación por un escalar, la eliminación de fila y columna, así como la representación visual de la matriz.\n",
        "*   Manejar errores que puedan surgir, como índices fuera de rango o tipos de datos incorrectos.\n",
        "\n",
        "\n",
        "\n",
        "\n",
        "\n",
        "\n"
      ]
    },
    {
      "cell_type": "code",
      "execution_count": null,
      "metadata": {
        "id": "Y-bGLHiqWQeU"
      },
      "outputs": [],
      "source": [
        "# Desarrolla aqui la clase\n",
        "\n",
        "class Matriz:\n",
        "    def __init__(self, n=1, m=None, tipo=None):\n",
        "        if m is None:\n",
        "            m = n\n",
        "        self.n = n\n",
        "        self.m = m\n",
        "        self.tipo = tipo\n",
        "        self.elementos = [[0] * m for _ in range(n)]\n",
        "        if tipo == 'diag':\n",
        "            for i in range(min(n, m)):\n",
        "                self.elementos[i][i] = 1\n",
        "        elif tipo == 'unos':\n",
        "            self.elementos = [[1] * m for _ in range(n)]\n",
        "\n",
        "    def __str__(self):\n",
        "        return '\\n'.join([' '.join(map(str, fila)) for fila in self.elementos])\n",
        "\n",
        "    def quitafila(self, i):\n",
        "        nueva_matriz = Matriz(self.n - 1, self.m)\n",
        "        nueva_matriz.elementos = [fila[:] for j, fila in enumerate(self.elementos) if j != i]\n",
        "        return nueva_matriz\n",
        "\n",
        "    def quitacolumna(self, j):\n",
        "        nueva_matriz = Matriz(self.n, self.m - 1)\n",
        "        nueva_matriz.elementos = [[fila[i] for i in range(self.m) if i != j] for fila in self.elementos]\n",
        "        return nueva_matriz\n",
        "\n",
        "    def __mul__(self, otra):\n",
        "        if isinstance(otra, Matriz):\n",
        "            if self.m != otra.n:\n",
        "                raise ValueError(\"El número de columnas de la primera matriz debe ser igual al número de filas de la segunda matriz.\")\n",
        "            nueva_matriz = Matriz(self.n, otra.m)\n",
        "            for i in range(self.n):\n",
        "                for j in range(otra.m):\n",
        "                    nueva_matriz.elementos[i][j] = sum(self.elementos[i][k] * otra.elementos[k][j] for k in range(self.m))\n",
        "            return nueva_matriz\n",
        "        elif isinstance(otra, (int, float)):\n",
        "            nueva_matriz = Matriz(self.n, self.m)\n",
        "            nueva_matriz.elementos = [[self.elementos[i][j] * otra for j in range(self.m)] for i in range(self.n)]\n",
        "            return nueva_matriz\n",
        "        else:\n",
        "            raise ValueError(\"El segundo operando debe ser una matriz o un escalar.\")\n",
        "\n",
        "    def __add__(self, otra):\n",
        "        if self.n != otra.n or self.m != otra.m:\n",
        "            raise ValueError(\"No se pueden sumar matrices de diferentes dimensiones.\")\n",
        "        nueva_matriz = Matriz(self.n, self.m)\n",
        "        nueva_matriz.elementos = [[self.elementos[i][j] + otra.elementos[i][j] for j in range(self.m)] for i in range(self.n)]\n",
        "        return nueva_matriz\n",
        "\n",
        "\n"
      ]
    },
    {
      "cell_type": "code",
      "execution_count": null,
      "metadata": {
        "colab": {
          "base_uri": "https://localhost:8080/"
        },
        "id": "ovmJJiECm3ie",
        "outputId": "c10042b0-8b26-4de2-b19f-cd13cefd9397"
      },
      "outputs": [
        {
          "name": "stdout",
          "output_type": "stream",
          "text": [
            "A = 0 0 0 0\n",
            "0 0 0 0\n",
            "0 0 0 0\n",
            "A =  0 0 0 0\n",
            "0 0 0 0\n",
            "B =  1 0 0 0\n",
            "0 1 0 0\n",
            "0 0 1 0\n",
            "0 0 0 1\n",
            "C = 1\n",
            "1\n",
            "1\n",
            "1\n",
            "Error: unsupported operand type(s) for *: 'int' and 'Matriz'\n"
          ]
        }
      ],
      "source": []
    },
    {
      "cell_type": "code",
      "execution_count": null,
      "metadata": {
        "id": "lEBqcoGtm3ie"
      },
      "outputs": [],
      "source": [
        "# Realiza las pruebas a la clase aquí\n",
        "\n",
        "try:\n",
        "    A = Matriz(n=3, m=4)\n",
        "    print('A =', A)\n",
        "\n",
        "    A = A.quitafila(2)\n",
        "    print('A = ', A)\n",
        "\n",
        "    B = Matriz(4, 4, 'diag')\n",
        "    print('B = ', B)\n",
        "\n",
        "    C = Matriz(4, 1, 'unos')\n",
        "    print('C =', C)\n",
        "\n",
        "    try:\n",
        "        D = 3 * B * C\n",
        "        print('D = ', D)\n",
        "    except TypeError as error:\n",
        "        print(\"Error:\", error)\n",
        "\n",
        "except ValueError as error:\n",
        "    print(\"Error:\", error)\n"
      ]
    }
  ],
  "metadata": {
    "colab": {
      "include_colab_link": true,
      "provenance": []
    },
    "kernelspec": {
      "display_name": "ing-caract",
      "language": "python",
      "name": "python3"
    },
    "language_info": {
      "codemirror_mode": {
        "name": "ipython",
        "version": 3
      },
      "file_extension": ".py",
      "mimetype": "text/x-python",
      "name": "python",
      "nbconvert_exporter": "python",
      "pygments_lexer": "ipython3",
      "version": "3.8.13"
    },
    "orig_nbformat": 4
  },
  "nbformat": 4,
  "nbformat_minor": 0
}
